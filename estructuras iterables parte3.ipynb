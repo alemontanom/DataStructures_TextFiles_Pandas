{
 "cells": [
  {
   "cell_type": "markdown",
   "metadata": {},
   "source": [
    "## Diccionario"
   ]
  },
  {
   "cell_type": "markdown",
   "metadata": {},
   "source": [
    "Se puede utilizar el comando dict"
   ]
  },
  {
   "attachments": {
    "image.png": {
     "image/png": "[encoded data removed]"
    }
   },
   "cell_type": "markdown",
   "metadata": {},
   "source": [
    "![image.png](attachment:image.png)"
   ]
  },
  {
   "cell_type": "code",
   "execution_count": 1,
   "metadata": {},
   "outputs": [
    {
     "data": {
      "text/plain": [
       "{'Python': 1991, 'C': 1972, 'Java': 1996}"
      ]
     },
     "execution_count": 1,
     "metadata": {},
     "output_type": "execute_result"
    }
   ],
   "source": [
    "d=dict(Python=1991, C=1972, Java=1996)\n",
    "d"
   ]
  },
  {
   "cell_type": "markdown",
   "metadata": {},
   "source": [
    "O utilizando combinacion de {},: y ()\n",
    "\n",
    "datos={171576:(\"Pedro\",\"CP\"),183542:(\"Lucía\",\"Matemáticas\"),135744:(\"Juana\",\"Economía\"),153476:(\"Lucas\",\"Actuaría\"),173412:(\"Juan\",\"Administración\")}"
   ]
  },
  {
   "cell_type": "code",
   "execution_count": 4,
   "metadata": {},
   "outputs": [
    {
     "data": {
      "text/plain": [
       "{171576: ('Pedro', 'CP'),\n",
       " 183542: ('Lucía', 'Matemáticas'),\n",
       " 135744: ('Juana', 'Economía'),\n",
       " 153476: ('Lucas', 'Actuaría'),\n",
       " 173412: ('Juan', 'Administración')}"
      ]
     },
     "execution_count": 4,
     "metadata": {},
     "output_type": "execute_result"
    }
   ],
   "source": [
    "datos={171576:(\"Pedro\",\"CP\"),183542:(\"Lucía\",\"Matemáticas\"),135744:(\"Juana\",\"Economía\"),153476:(\"Lucas\",\"Actuaría\"),173412:(\"Juan\",\"Administración\")}\n",
    "datos"
   ]
  },
  {
   "cell_type": "code",
   "execution_count": 5,
   "metadata": {},
   "outputs": [
    {
     "data": {
      "text/plain": [
       "('Pedro', 'CP')"
      ]
     },
     "execution_count": 5,
     "metadata": {},
     "output_type": "execute_result"
    }
   ],
   "source": [
    "datos[171576]"
   ]
  },
  {
   "cell_type": "code",
   "execution_count": 4,
   "metadata": {},
   "outputs": [
    {
     "name": "stdout",
     "output_type": "stream",
     "text": [
      "Variable   Type    Data/Info\n",
      "----------------------------\n",
      "d          dict    n=3\n",
      "datos      dict    n=5\n",
      "dos        int     2\n",
      "tres       int     3\n",
      "uno        int     1\n"
     ]
    }
   ],
   "source": [
    "whos"
   ]
  },
  {
   "attachments": {
    "image.png": {
     "image/png": "[encoded data removed]"
    }
   },
   "cell_type": "markdown",
   "metadata": {},
   "source": [
    "![image.png](attachment:image.png)"
   ]
  },
  {
   "cell_type": "markdown",
   "metadata": {},
   "source": [
    "¿cuantos elementos tiene?"
   ]
  },
  {
   "cell_type": "code",
   "execution_count": 6,
   "metadata": {},
   "outputs": [
    {
     "data": {
      "text/plain": [
       "2"
      ]
     },
     "execution_count": 6,
     "metadata": {},
     "output_type": "execute_result"
    }
   ],
   "source": [
    "len(datos[171576])"
   ]
  },
  {
   "cell_type": "markdown",
   "metadata": {},
   "source": [
    "prueba los metodos items() , keys(), values()"
   ]
  },
  {
   "cell_type": "code",
   "execution_count": 5,
   "metadata": {},
   "outputs": [
    {
     "data": {
      "text/plain": [
       "dict_items([(171576, ('Pedro', 'CP')), (183542, ('Lucía', 'Matemáticas')), (135744, ('Juana', 'Economía')), (153476, ('Lucas', 'Actuaría')), (173412, ('Juan', 'Administración'))])"
      ]
     },
     "execution_count": 5,
     "metadata": {},
     "output_type": "execute_result"
    }
   ],
   "source": [
    "datos.items()"
   ]
  },
  {
   "cell_type": "code",
   "execution_count": 6,
   "metadata": {},
   "outputs": [
    {
     "data": {
      "text/plain": [
       "dict_keys([171576, 183542, 135744, 153476, 173412])"
      ]
     },
     "execution_count": 6,
     "metadata": {},
     "output_type": "execute_result"
    }
   ],
   "source": [
    "datos.keys()"
   ]
  },
  {
   "cell_type": "code",
   "execution_count": 7,
   "metadata": {},
   "outputs": [
    {
     "data": {
      "text/plain": [
       "dict_values([('Pedro', 'CP'), ('Lucía', 'Matemáticas'), ('Juana', 'Economía'), ('Lucas', 'Actuaría'), ('Juan', 'Administración')])"
      ]
     },
     "execution_count": 7,
     "metadata": {},
     "output_type": "execute_result"
    }
   ],
   "source": [
    "datos.values()"
   ]
  },
  {
   "cell_type": "markdown",
   "metadata": {},
   "source": [
    "metodo get, prueba extraer las partes interiores con []"
   ]
  },
  {
   "cell_type": "code",
   "execution_count": 9,
   "metadata": {},
   "outputs": [
    {
     "data": {
      "text/plain": [
       "('Pedro', 'CP')"
      ]
     },
     "execution_count": 9,
     "metadata": {},
     "output_type": "execute_result"
    }
   ],
   "source": [
    "datos[171576]"
   ]
  },
  {
   "cell_type": "code",
   "execution_count": 12,
   "metadata": {
    "scrolled": true
   },
   "outputs": [
    {
     "data": {
      "text/plain": [
       "('Pedro', 'CP')"
      ]
     },
     "execution_count": 12,
     "metadata": {},
     "output_type": "execute_result"
    }
   ],
   "source": [
    "datos.get(171576)"
   ]
  },
  {
   "cell_type": "code",
   "execution_count": 15,
   "metadata": {},
   "outputs": [
    {
     "data": {
      "text/plain": [
       "'No existe'"
      ]
     },
     "execution_count": 15,
     "metadata": {},
     "output_type": "execute_result"
    }
   ],
   "source": [
    "datos.get(230, \"No existe\")"
   ]
  },
  {
   "cell_type": "markdown",
   "metadata": {},
   "source": [
    "se puede accesar directamente por llave y con un segundo [] para las partes interiores"
   ]
  },
  {
   "cell_type": "code",
   "execution_count": 17,
   "metadata": {
    "scrolled": true
   },
   "outputs": [
    {
     "data": {
      "text/plain": [
       "'CP'"
      ]
     },
     "execution_count": 17,
     "metadata": {},
     "output_type": "execute_result"
    }
   ],
   "source": [
    "datos.get(171576)[1]"
   ]
  },
  {
   "cell_type": "markdown",
   "metadata": {},
   "source": [
    "actualizar los datos sobreescribiendolos\n",
    "\n",
    "    Para la CU 153476 cambialos a (\"Jose\",\"Derecho\")"
   ]
  },
  {
   "cell_type": "code",
   "execution_count": 18,
   "metadata": {},
   "outputs": [],
   "source": [
    "datos[153476]=(\"Jose\", \"Derecho\")"
   ]
  },
  {
   "cell_type": "code",
   "execution_count": 19,
   "metadata": {},
   "outputs": [
    {
     "data": {
      "text/plain": [
       "{171576: ('Pedro', 'CP'),\n",
       " 183542: ('Lucía', 'Matemáticas'),\n",
       " 135744: ('Juana', 'Economía'),\n",
       " 153476: ('Jose', 'Derecho'),\n",
       " 173412: ('Juan', 'Administración')}"
      ]
     },
     "execution_count": 19,
     "metadata": {},
     "output_type": "execute_result"
    }
   ],
   "source": [
    "datos"
   ]
  },
  {
   "cell_type": "markdown",
   "metadata": {},
   "source": [
    "o actualizar con metodo update \n",
    "\n",
    "    {135744:(\"Ana Laura\",\"CP yFinanzas\")}\n",
    "    {151782:(\"Lucia\",\"Economía\")}"
   ]
  },
  {
   "cell_type": "code",
   "execution_count": 25,
   "metadata": {},
   "outputs": [],
   "source": [
    "datos.update({135744:(\"Ana Laura\",\"CP y Finanzas\")})\n",
    "datos.update({151782:(\"Lucia\",\"Economía\")})"
   ]
  },
  {
   "cell_type": "code",
   "execution_count": 26,
   "metadata": {},
   "outputs": [
    {
     "data": {
      "text/plain": [
       "{171576: ('Pedro', 'CP'),\n",
       " 183542: ('Lucía', 'Matemáticas'),\n",
       " 135744: ('Ana Laura', 'CP y Finanzas'),\n",
       " 153476: ('Jose', 'Derecho'),\n",
       " 173412: ('Juan', 'Administración'),\n",
       " 151782: ('Lucia', 'Economía')}"
      ]
     },
     "execution_count": 26,
     "metadata": {},
     "output_type": "execute_result"
    }
   ],
   "source": [
    "datos"
   ]
  },
  {
   "cell_type": "code",
   "execution_count": 27,
   "metadata": {},
   "outputs": [],
   "source": [
    "datos[789798]=(\"Jorge\", \"Actuaria\")"
   ]
  },
  {
   "cell_type": "code",
   "execution_count": 28,
   "metadata": {},
   "outputs": [
    {
     "data": {
      "text/plain": [
       "{171576: ('Pedro', 'CP'),\n",
       " 183542: ('Lucía', 'Matemáticas'),\n",
       " 135744: ('Ana Laura', 'CP y Finanzas'),\n",
       " 153476: ('Jose', 'Derecho'),\n",
       " 173412: ('Juan', 'Administración'),\n",
       " 151782: ('Lucia', 'Economía'),\n",
       " 789798: ('Jorge', 'Actuaria')}"
      ]
     },
     "execution_count": 28,
     "metadata": {},
     "output_type": "execute_result"
    }
   ],
   "source": [
    "datos"
   ]
  },
  {
   "cell_type": "markdown",
   "metadata": {},
   "source": [
    "metodos pop() popitem()"
   ]
  },
  {
   "cell_type": "code",
   "execution_count": 30,
   "metadata": {},
   "outputs": [
    {
     "data": {
      "text/plain": [
       "('Ana Laura', 'CP y Finanzas')"
      ]
     },
     "execution_count": 30,
     "metadata": {},
     "output_type": "execute_result"
    }
   ],
   "source": [
    "datos.pop(135744)\n",
    "#le tienes que dar la llave que quieres quitar"
   ]
  },
  {
   "cell_type": "code",
   "execution_count": 31,
   "metadata": {},
   "outputs": [
    {
     "data": {
      "text/plain": [
       "(789798, ('Jorge', 'Actuaria'))"
      ]
     },
     "execution_count": 31,
     "metadata": {},
     "output_type": "execute_result"
    }
   ],
   "source": [
    "datos.popitem()"
   ]
  },
  {
   "cell_type": "markdown",
   "metadata": {},
   "source": [
    "comprehension"
   ]
  },
  {
   "cell_type": "code",
   "execution_count": 32,
   "metadata": {},
   "outputs": [
    {
     "data": {
      "text/plain": [
       "[171576, 183542, 153476, 173412, 151782]"
      ]
     },
     "execution_count": 32,
     "metadata": {},
     "output_type": "execute_result"
    }
   ],
   "source": [
    "[i for i in datos]"
   ]
  },
  {
   "cell_type": "code",
   "execution_count": 33,
   "metadata": {},
   "outputs": [
    {
     "data": {
      "text/plain": [
       "['Pedro', 'Lucía', 'Jose', 'Juan', 'Lucia']"
      ]
     },
     "execution_count": 33,
     "metadata": {},
     "output_type": "execute_result"
    }
   ],
   "source": [
    "[datos[i][0] for i in datos]"
   ]
  },
  {
   "cell_type": "code",
   "execution_count": 34,
   "metadata": {},
   "outputs": [
    {
     "data": {
      "text/plain": [
       "[('Pedro', 'CP'),\n",
       " ('Lucía', 'Matemáticas'),\n",
       " ('Jose', 'Derecho'),\n",
       " ('Juan', 'Administración'),\n",
       " ('Lucia', 'Economía')]"
      ]
     },
     "execution_count": 34,
     "metadata": {},
     "output_type": "execute_result"
    }
   ],
   "source": [
    "[datos[i] for i in datos]"
   ]
  },
  {
   "cell_type": "code",
   "execution_count": 35,
   "metadata": {},
   "outputs": [
    {
     "data": {
      "text/plain": [
       "['Pedro']"
      ]
     },
     "execution_count": 35,
     "metadata": {},
     "output_type": "execute_result"
    }
   ],
   "source": [
    "[datos[i][0] for i in datos if datos[i][1]==\"CP\"]"
   ]
  },
  {
   "cell_type": "code",
   "execution_count": 50,
   "metadata": {},
   "outputs": [],
   "source": [
    "datos[9999]=(\"Ana Laura\", \"CP y finanzas\")"
   ]
  },
  {
   "cell_type": "code",
   "execution_count": 43,
   "metadata": {},
   "outputs": [
    {
     "data": {
      "text/plain": [
       "['Pedro', 'Jorge', 'Ana']"
      ]
     },
     "execution_count": 43,
     "metadata": {},
     "output_type": "execute_result"
    }
   ],
   "source": [
    "datos[789798]=(\"Jorge\", \"CP\")\n",
    "datos[7890008]=(\"Ana\", \"CP\")\n",
    "[datos[i][0] for i in datos if datos[i][1].count(\"CP\")>=1] "
   ]
  },
  {
   "cell_type": "code",
   "execution_count": 3,
   "metadata": {},
   "outputs": [
    {
     "ename": "NameError",
     "evalue": "name 'datos' is not defined",
     "output_type": "error",
     "traceback": [
      "\u001b[0;31m---------------------------------------------------------------------------\u001b[0m",
      "\u001b[0;31mNameError\u001b[0m                                 Traceback (most recent call last)",
      "\u001b[0;32m<ipython-input-3-f9e9fd10dac0>\u001b[0m in \u001b[0;36m<module>\u001b[0;34m\u001b[0m\n\u001b[0;32m----> 1\u001b[0;31m \u001b[0mdatos\u001b[0m\u001b[0;34m[\u001b[0m\u001b[0;36m789798\u001b[0m\u001b[0;34m]\u001b[0m\u001b[0;34m\u001b[0m\u001b[0;34m\u001b[0m\u001b[0m\n\u001b[0m",
      "\u001b[0;31mNameError\u001b[0m: name 'datos' is not defined"
     ]
    }
   ],
   "source": [
    "datos[789798]"
   ]
  },
  {
   "cell_type": "code",
   "execution_count": 2,
   "metadata": {},
   "outputs": [
    {
     "ename": "NameError",
     "evalue": "name 'datos' is not defined",
     "output_type": "error",
     "traceback": [
      "\u001b[0;31m---------------------------------------------------------------------------\u001b[0m",
      "\u001b[0;31mNameError\u001b[0m                                 Traceback (most recent call last)",
      "\u001b[0;32m<ipython-input-2-2cb535c383c8>\u001b[0m in \u001b[0;36m<module>\u001b[0;34m\u001b[0m\n\u001b[0;32m----> 1\u001b[0;31m \u001b[0;34m[\u001b[0m\u001b[0mdatos\u001b[0m\u001b[0;34m[\u001b[0m\u001b[0mi\u001b[0m\u001b[0;34m]\u001b[0m\u001b[0;34m[\u001b[0m\u001b[0;36m0\u001b[0m\u001b[0;34m]\u001b[0m \u001b[0;32mfor\u001b[0m \u001b[0mi\u001b[0m \u001b[0;32min\u001b[0m \u001b[0mdatos\u001b[0m \u001b[0;32mif\u001b[0m \u001b[0;34m\"CP\"\u001b[0m \u001b[0;32min\u001b[0m \u001b[0mdatos\u001b[0m\u001b[0;34m[\u001b[0m\u001b[0mi\u001b[0m\u001b[0;34m]\u001b[0m\u001b[0;34m[\u001b[0m\u001b[0;36m1\u001b[0m\u001b[0;34m]\u001b[0m\u001b[0;34m]\u001b[0m\u001b[0;34m\u001b[0m\u001b[0;34m\u001b[0m\u001b[0m\n\u001b[0m",
      "\u001b[0;31mNameError\u001b[0m: name 'datos' is not defined"
     ]
    }
   ],
   "source": [
    "[datos[i][0] for i in datos if \"CP\" in datos[i][1]] "
   ]
  },
  {
   "cell_type": "code",
   "execution_count": 53,
   "metadata": {},
   "outputs": [
    {
     "data": {
      "text/plain": [
       "['Pedro', 'Jorge', 'Ana', 'Ana Laura']"
      ]
     },
     "execution_count": 53,
     "metadata": {},
     "output_type": "execute_result"
    }
   ],
   "source": [
    "[datos[i][0] for i in datos if datos[i][1].count(\"CP\")>=1] "
   ]
  },
  {
   "cell_type": "code",
   "execution_count": 54,
   "metadata": {},
   "outputs": [
    {
     "data": {
      "text/plain": [
       "['Pedro', 'Jorge', 'Ana']"
      ]
     },
     "execution_count": 54,
     "metadata": {},
     "output_type": "execute_result"
    }
   ],
   "source": [
    "[datos[i][0] for i in datos if datos[i][1]==\"CP\"]\n",
    "## te excluye el plan conjunto"
   ]
  },
  {
   "cell_type": "markdown",
   "metadata": {},
   "source": [
    "Utilizando comprehension genera los mensajes \n",
    "\n",
    "    la clave  171576  es de la carrera Pedro\n",
    "    la clave  183542  es de la carrera Lucía\n",
    "    la clave  135744  es de la carrera Ana Laura\n",
    "    la clave  153476  es de la carrera Jose\n",
    "    la clave  173412  es de la carrera Juan\n",
    "    la clave  15476  es de la carrera Jose\n",
    "    la clave  151782  es de la carrera Laura"
   ]
  },
  {
   "cell_type": "code",
   "execution_count": 44,
   "metadata": {},
   "outputs": [
    {
     "name": "stdout",
     "output_type": "stream",
     "text": [
      "La clave  171576  es de la carrera Pedro\n",
      "La clave  183542  es de la carrera Lucía\n",
      "La clave  153476  es de la carrera Jose\n",
      "La clave  173412  es de la carrera Juan\n",
      "La clave  151782  es de la carrera Lucia\n",
      "La clave  789798  es de la carrera Jorge\n",
      "La clave  7890008  es de la carrera Ana\n"
     ]
    },
    {
     "data": {
      "text/plain": [
       "[None, None, None, None, None, None, None]"
      ]
     },
     "execution_count": 44,
     "metadata": {},
     "output_type": "execute_result"
    }
   ],
   "source": [
    "[print(\"La clave \",i,\" es de la carrera\",datos[i][0]) for i in datos]\n",
    "#sale la lista fea de none porque lo hicimos con string"
   ]
  },
  {
   "cell_type": "code",
   "execution_count": 45,
   "metadata": {},
   "outputs": [
    {
     "data": {
      "text/plain": [
       "['La clave 171576 es de la carrera Pedro',\n",
       " 'La clave 183542 es de la carrera Lucía',\n",
       " 'La clave 153476 es de la carrera Jose',\n",
       " 'La clave 173412 es de la carrera Juan',\n",
       " 'La clave 151782 es de la carrera Lucia',\n",
       " 'La clave 789798 es de la carrera Jorge',\n",
       " 'La clave 7890008 es de la carrera Ana']"
      ]
     },
     "execution_count": 45,
     "metadata": {},
     "output_type": "execute_result"
    }
   ],
   "source": [
    "[\"La clave \"+str(i)+\" es de la carrera \"+datos[i][0] for i in datos]"
   ]
  },
  {
   "cell_type": "code",
   "execution_count": 46,
   "metadata": {},
   "outputs": [
    {
     "name": "stdout",
     "output_type": "stream",
     "text": [
      "La clave 171576 es de la carrera Pedro\n",
      "La clave 183542 es de la carrera Lucía\n",
      "La clave 153476 es de la carrera Jose\n",
      "La clave 173412 es de la carrera Juan\n",
      "La clave 151782 es de la carrera Lucia\n",
      "La clave 789798 es de la carrera Jorge\n",
      "La clave 7890008 es de la carrera Ana\n"
     ]
    }
   ],
   "source": [
    "for i in datos: \n",
    "    print(\"La clave \"+str(i)+\" es de la carrera \"+datos[i][0])"
   ]
  },
  {
   "cell_type": "markdown",
   "metadata": {},
   "source": [
    "Puedes utilizar comprehension con if, por ejemplo imprime el mensaje solo para los alumnos con nombres que inician con J\n",
    "\n",
    "[datos[i][1] for i in datos if datos[i][0][0] in [\"j\",\"J\"]]"
   ]
  },
  {
   "cell_type": "code",
   "execution_count": 55,
   "metadata": {},
   "outputs": [
    {
     "data": {
      "text/plain": [
       "['Derecho', 'Administración', 'CP']"
      ]
     },
     "execution_count": 55,
     "metadata": {},
     "output_type": "execute_result"
    }
   ],
   "source": [
    "[datos[i][1] for i in datos if datos[i][0][0] in [\"j\",\"J\"]]"
   ]
  },
  {
   "cell_type": "code",
   "execution_count": 57,
   "metadata": {},
   "outputs": [
    {
     "name": "stdout",
     "output_type": "stream",
     "text": [
      "La clave  153476  es de la carrera Derecho\n",
      "La clave  173412  es de la carrera Administración\n",
      "La clave  789798  es de la carrera CP\n"
     ]
    },
    {
     "data": {
      "text/plain": [
       "[None, None, None]"
      ]
     },
     "execution_count": 57,
     "metadata": {},
     "output_type": "execute_result"
    }
   ],
   "source": [
    "[print(\"La clave \",i,\" es de la carrera \"+datos[i][1]) for i in datos if datos[i][0][0] in [\"j\",\"J\"]]\n",
    "#imprime el mensaje para los alumnos que empiezan con J"
   ]
  },
  {
   "cell_type": "markdown",
   "metadata": {},
   "source": [
    "Si declaro otro diccionario \n",
    "\n",
    "    calificaciones={171576:80,183542:100,135744:60,153476:90,173412:90,151782:80,23890:90}"
   ]
  },
  {
   "cell_type": "code",
   "execution_count": 58,
   "metadata": {},
   "outputs": [],
   "source": [
    "calificaciones={171576:80,183542:100,135744:60,153476:90,173412:90,151782:80,23890:90}"
   ]
  },
  {
   "cell_type": "markdown",
   "metadata": {},
   "source": [
    "¿cual es la calificacion para clave 183542?"
   ]
  },
  {
   "cell_type": "code",
   "execution_count": 59,
   "metadata": {},
   "outputs": [
    {
     "data": {
      "text/plain": [
       "100"
      ]
     },
     "execution_count": 59,
     "metadata": {},
     "output_type": "execute_result"
    }
   ],
   "source": [
    "calificaciones.get(183542, \"No\")"
   ]
  },
  {
   "cell_type": "markdown",
   "metadata": {},
   "source": [
    "Podrías generar un print con la estructura Nombre tiene una calificacion de calificacion para la clave 183542?\n",
    "\n",
    "    Lucía  tiene una calificacion  100"
   ]
  },
  {
   "cell_type": "code",
   "execution_count": 61,
   "metadata": {
    "scrolled": true
   },
   "outputs": [
    {
     "name": "stdout",
     "output_type": "stream",
     "text": [
      "Pedro  tiene una calificación de  80\n",
      "Lucía  tiene una calificación de  100\n",
      "Jose  tiene una calificación de  90\n",
      "Juan  tiene una calificación de  90\n",
      "Lucia  tiene una calificación de  80\n"
     ]
    },
    {
     "ename": "KeyError",
     "evalue": "789798",
     "output_type": "error",
     "traceback": [
      "\u001b[0;31m---------------------------------------------------------------------------\u001b[0m",
      "\u001b[0;31mKeyError\u001b[0m                                  Traceback (most recent call last)",
      "\u001b[0;32m<ipython-input-61-84353453a43c>\u001b[0m in \u001b[0;36m<module>\u001b[0;34m\u001b[0m\n\u001b[0;32m----> 1\u001b[0;31m \u001b[0;34m[\u001b[0m\u001b[0mprint\u001b[0m\u001b[0;34m(\u001b[0m\u001b[0mdatos\u001b[0m\u001b[0;34m[\u001b[0m\u001b[0mi\u001b[0m\u001b[0;34m]\u001b[0m\u001b[0;34m[\u001b[0m\u001b[0;36m0\u001b[0m\u001b[0;34m]\u001b[0m\u001b[0;34m,\u001b[0m\u001b[0;34m\" tiene una calificación de \"\u001b[0m\u001b[0;34m,\u001b[0m\u001b[0mcalificaciones\u001b[0m\u001b[0;34m[\u001b[0m\u001b[0mi\u001b[0m\u001b[0;34m]\u001b[0m\u001b[0;34m)\u001b[0m \u001b[0;32mfor\u001b[0m \u001b[0mi\u001b[0m \u001b[0;32min\u001b[0m \u001b[0mdatos\u001b[0m\u001b[0;34m]\u001b[0m\u001b[0;34m\u001b[0m\u001b[0;34m\u001b[0m\u001b[0m\n\u001b[0m",
      "\u001b[0;32m<ipython-input-61-84353453a43c>\u001b[0m in \u001b[0;36m<listcomp>\u001b[0;34m(.0)\u001b[0m\n\u001b[0;32m----> 1\u001b[0;31m \u001b[0;34m[\u001b[0m\u001b[0mprint\u001b[0m\u001b[0;34m(\u001b[0m\u001b[0mdatos\u001b[0m\u001b[0;34m[\u001b[0m\u001b[0mi\u001b[0m\u001b[0;34m]\u001b[0m\u001b[0;34m[\u001b[0m\u001b[0;36m0\u001b[0m\u001b[0;34m]\u001b[0m\u001b[0;34m,\u001b[0m\u001b[0;34m\" tiene una calificación de \"\u001b[0m\u001b[0;34m,\u001b[0m\u001b[0mcalificaciones\u001b[0m\u001b[0;34m[\u001b[0m\u001b[0mi\u001b[0m\u001b[0;34m]\u001b[0m\u001b[0;34m)\u001b[0m \u001b[0;32mfor\u001b[0m \u001b[0mi\u001b[0m \u001b[0;32min\u001b[0m \u001b[0mdatos\u001b[0m\u001b[0;34m]\u001b[0m\u001b[0;34m\u001b[0m\u001b[0;34m\u001b[0m\u001b[0m\n\u001b[0m",
      "\u001b[0;31mKeyError\u001b[0m: 789798"
     ]
    }
   ],
   "source": [
    "[print(datos[i][0],\" tiene una calificación de \",calificaciones[i]) for i in datos]\n",
    "#imprime y luego marca error porque no hay calificaciones para todas las llaves de datos "
   ]
  },
  {
   "cell_type": "code",
   "execution_count": 62,
   "metadata": {},
   "outputs": [
    {
     "name": "stdout",
     "output_type": "stream",
     "text": [
      "Pedro  tiene una calificación de  80\n",
      "Lucía  tiene una calificación de  100\n"
     ]
    },
    {
     "ename": "KeyError",
     "evalue": "135744",
     "output_type": "error",
     "traceback": [
      "\u001b[0;31m---------------------------------------------------------------------------\u001b[0m",
      "\u001b[0;31mKeyError\u001b[0m                                  Traceback (most recent call last)",
      "\u001b[0;32m<ipython-input-62-457378e0a185>\u001b[0m in \u001b[0;36m<module>\u001b[0;34m\u001b[0m\n\u001b[0;32m----> 1\u001b[0;31m \u001b[0;34m[\u001b[0m\u001b[0mprint\u001b[0m\u001b[0;34m(\u001b[0m\u001b[0mdatos\u001b[0m\u001b[0;34m[\u001b[0m\u001b[0mi\u001b[0m\u001b[0;34m]\u001b[0m\u001b[0;34m[\u001b[0m\u001b[0;36m0\u001b[0m\u001b[0;34m]\u001b[0m\u001b[0;34m,\u001b[0m\u001b[0;34m\" tiene una calificación de \"\u001b[0m\u001b[0;34m,\u001b[0m\u001b[0mcalificaciones\u001b[0m\u001b[0;34m[\u001b[0m\u001b[0mi\u001b[0m\u001b[0;34m]\u001b[0m\u001b[0;34m)\u001b[0m \u001b[0;32mfor\u001b[0m \u001b[0mi\u001b[0m \u001b[0;32min\u001b[0m \u001b[0mcalificaciones\u001b[0m\u001b[0;34m]\u001b[0m\u001b[0;34m\u001b[0m\u001b[0;34m\u001b[0m\u001b[0m\n\u001b[0m",
      "\u001b[0;32m<ipython-input-62-457378e0a185>\u001b[0m in \u001b[0;36m<listcomp>\u001b[0;34m(.0)\u001b[0m\n\u001b[0;32m----> 1\u001b[0;31m \u001b[0;34m[\u001b[0m\u001b[0mprint\u001b[0m\u001b[0;34m(\u001b[0m\u001b[0mdatos\u001b[0m\u001b[0;34m[\u001b[0m\u001b[0mi\u001b[0m\u001b[0;34m]\u001b[0m\u001b[0;34m[\u001b[0m\u001b[0;36m0\u001b[0m\u001b[0;34m]\u001b[0m\u001b[0;34m,\u001b[0m\u001b[0;34m\" tiene una calificación de \"\u001b[0m\u001b[0;34m,\u001b[0m\u001b[0mcalificaciones\u001b[0m\u001b[0;34m[\u001b[0m\u001b[0mi\u001b[0m\u001b[0;34m]\u001b[0m\u001b[0;34m)\u001b[0m \u001b[0;32mfor\u001b[0m \u001b[0mi\u001b[0m \u001b[0;32min\u001b[0m \u001b[0mcalificaciones\u001b[0m\u001b[0;34m]\u001b[0m\u001b[0;34m\u001b[0m\u001b[0;34m\u001b[0m\u001b[0m\n\u001b[0m",
      "\u001b[0;31mKeyError\u001b[0m: 135744"
     ]
    }
   ],
   "source": [
    "[print(datos[i][0],\" tiene una calificación de \",calificaciones[i]) for i in calificaciones]"
   ]
  },
  {
   "cell_type": "markdown",
   "metadata": {},
   "source": [
    "Creemos un nuevo diccionario\n",
    "\n",
    "    equivalente={100:\"A\",90:\"A\",80:\"B\",70:\"C\",60:\"D\",50:\"NA\",40:\"NA\",30:\"NA\",20:\"NA\",10:\"NA\"}\n",
    "\n",
    "\n"
   ]
  },
  {
   "cell_type": "code",
   "execution_count": 63,
   "metadata": {},
   "outputs": [],
   "source": [
    "equivalente={100:\"A\",90:\"A\",80:\"B\",70:\"C\",60:\"D\",50:\"NA\",40:\"NA\",30:\"NA\",20:\"NA\",10:\"NA\"}"
   ]
  },
  {
   "cell_type": "markdown",
   "metadata": {},
   "source": [
    "Podrías generar un nuevo print con la estructura Nombre tiene una calificacion de calificacion que equivale a nota para la clave 183542?\n",
    "\n",
    "El resultado debe ser\n",
    "\n",
    "        Lucía  tiene una calificacion  100 que equivale a  A"
   ]
  },
  {
   "cell_type": "code",
   "execution_count": 68,
   "metadata": {},
   "outputs": [
    {
     "name": "stdout",
     "output_type": "stream",
     "text": [
      "Pedro  tiene una calificación de  80  que equivale a nota  B\n",
      "Lucía  tiene una calificación de  100  que equivale a nota  A\n",
      "Jose  tiene una calificación de  90  que equivale a nota  A\n",
      "Juan  tiene una calificación de  90  que equivale a nota  A\n",
      "Lucia  tiene una calificación de  80  que equivale a nota  B\n"
     ]
    },
    {
     "ename": "KeyError",
     "evalue": "789798",
     "output_type": "error",
     "traceback": [
      "\u001b[0;31m---------------------------------------------------------------------------\u001b[0m",
      "\u001b[0;31mKeyError\u001b[0m                                  Traceback (most recent call last)",
      "\u001b[0;32m<ipython-input-68-695749f272d2>\u001b[0m in \u001b[0;36m<module>\u001b[0;34m\u001b[0m\n\u001b[0;32m----> 1\u001b[0;31m \u001b[0;34m[\u001b[0m\u001b[0mprint\u001b[0m\u001b[0;34m(\u001b[0m\u001b[0mdatos\u001b[0m\u001b[0;34m[\u001b[0m\u001b[0mi\u001b[0m\u001b[0;34m]\u001b[0m\u001b[0;34m[\u001b[0m\u001b[0;36m0\u001b[0m\u001b[0;34m]\u001b[0m\u001b[0;34m,\u001b[0m\u001b[0;34m\" tiene una calificación de \"\u001b[0m\u001b[0;34m,\u001b[0m\u001b[0mcalificaciones\u001b[0m\u001b[0;34m[\u001b[0m\u001b[0mi\u001b[0m\u001b[0;34m]\u001b[0m\u001b[0;34m,\u001b[0m\u001b[0;34m\" que equivale a nota \"\u001b[0m\u001b[0;34m,\u001b[0m\u001b[0mequivalente\u001b[0m\u001b[0;34m[\u001b[0m\u001b[0mcalificaciones\u001b[0m\u001b[0;34m[\u001b[0m\u001b[0mi\u001b[0m\u001b[0;34m]\u001b[0m\u001b[0;34m]\u001b[0m\u001b[0;34m)\u001b[0m \u001b[0;32mfor\u001b[0m \u001b[0mi\u001b[0m \u001b[0;32min\u001b[0m \u001b[0mdatos\u001b[0m\u001b[0;34m]\u001b[0m\u001b[0;34m\u001b[0m\u001b[0;34m\u001b[0m\u001b[0m\n\u001b[0m",
      "\u001b[0;32m<ipython-input-68-695749f272d2>\u001b[0m in \u001b[0;36m<listcomp>\u001b[0;34m(.0)\u001b[0m\n\u001b[0;32m----> 1\u001b[0;31m \u001b[0;34m[\u001b[0m\u001b[0mprint\u001b[0m\u001b[0;34m(\u001b[0m\u001b[0mdatos\u001b[0m\u001b[0;34m[\u001b[0m\u001b[0mi\u001b[0m\u001b[0;34m]\u001b[0m\u001b[0;34m[\u001b[0m\u001b[0;36m0\u001b[0m\u001b[0;34m]\u001b[0m\u001b[0;34m,\u001b[0m\u001b[0;34m\" tiene una calificación de \"\u001b[0m\u001b[0;34m,\u001b[0m\u001b[0mcalificaciones\u001b[0m\u001b[0;34m[\u001b[0m\u001b[0mi\u001b[0m\u001b[0;34m]\u001b[0m\u001b[0;34m,\u001b[0m\u001b[0;34m\" que equivale a nota \"\u001b[0m\u001b[0;34m,\u001b[0m\u001b[0mequivalente\u001b[0m\u001b[0;34m[\u001b[0m\u001b[0mcalificaciones\u001b[0m\u001b[0;34m[\u001b[0m\u001b[0mi\u001b[0m\u001b[0;34m]\u001b[0m\u001b[0;34m]\u001b[0m\u001b[0;34m)\u001b[0m \u001b[0;32mfor\u001b[0m \u001b[0mi\u001b[0m \u001b[0;32min\u001b[0m \u001b[0mdatos\u001b[0m\u001b[0;34m]\u001b[0m\u001b[0;34m\u001b[0m\u001b[0;34m\u001b[0m\u001b[0m\n\u001b[0m",
      "\u001b[0;31mKeyError\u001b[0m: 789798"
     ]
    }
   ],
   "source": [
    "[print(datos[i][0],\" tiene una calificación de \",calificaciones[i],\" que equivale a nota \",equivalente[calificaciones[i]]) for i in datos]"
   ]
  },
  {
   "cell_type": "markdown",
   "metadata": {},
   "source": [
    "Utilizando comprehesion entrega \n",
    "\n",
    "    todas las claves unicas que hay en info\n",
    "    todas las calificaciones de las personas en info\n",
    "    la calificacion promedio de quienes estan en info\n",
    "    la nota equivalente de quienes estan en info"
   ]
  },
  {
   "cell_type": "code",
   "execution_count": null,
   "metadata": {},
   "outputs": [],
   "source": []
  },
  {
   "cell_type": "markdown",
   "metadata": {},
   "source": [
    "funciones in , not in"
   ]
  },
  {
   "cell_type": "code",
   "execution_count": 3,
   "metadata": {},
   "outputs": [
    {
     "data": {
      "text/plain": [
       "True"
      ]
     },
     "execution_count": 3,
     "metadata": {},
     "output_type": "execute_result"
    }
   ],
   "source": [
    "171576 in datos"
   ]
  },
  {
   "cell_type": "markdown",
   "metadata": {},
   "source": [
    "metodo clear"
   ]
  },
  {
   "cell_type": "code",
   "execution_count": null,
   "metadata": {},
   "outputs": [],
   "source": [
    "#nombre del diccionario.clear lo borra"
   ]
  },
  {
   "attachments": {
    "image.png": {
     "image/png": "[encoded data removed]"
    }
   },
   "cell_type": "markdown",
   "metadata": {},
   "source": [
    "Ejercicio 1 \n",
    "\n",
    "Se tiene la información siguiente:\n",
    "\n",
    "![image.png](attachment:image.png)\n",
    "\n",
    "Utilizando esta información crea un diccionario "
   ]
  },
  {
   "cell_type": "code",
   "execution_count": 6,
   "metadata": {},
   "outputs": [],
   "source": [
    "cc={\"A1\":(\"Super Cut\",67984512), \"B2\":(\"Lavamagico\",55632189), \"A2\":(\"Dentastic\",68553180)}"
   ]
  },
  {
   "cell_type": "code",
   "execution_count": 7,
   "metadata": {},
   "outputs": [
    {
     "data": {
      "text/plain": [
       "{'A1': ('Super Cut', 67984512),\n",
       " 'B2': ('Lavamagico', 55632189),\n",
       " 'A2': ('Dentastic', 68553180)}"
      ]
     },
     "execution_count": 7,
     "metadata": {},
     "output_type": "execute_result"
    }
   ],
   "source": [
    "cc"
   ]
  },
  {
   "cell_type": "markdown",
   "metadata": {},
   "source": [
    "El local B2 se convertira en la papelería \"La Goma\", actualiza la información."
   ]
  },
  {
   "cell_type": "code",
   "execution_count": 8,
   "metadata": {},
   "outputs": [],
   "source": [
    "cc[\"B2\"]=(\"La Goma\",55632189)\n",
    "#cc.update({\"B2\":(\"La Goma\",9eqoeuowq)})"
   ]
  },
  {
   "cell_type": "code",
   "execution_count": 9,
   "metadata": {},
   "outputs": [
    {
     "data": {
      "text/plain": [
       "{'A1': ('Super Cut', 67984512),\n",
       " 'B2': ('La Goma', 55632189),\n",
       " 'A2': ('Dentastic', 68553180)}"
      ]
     },
     "execution_count": 9,
     "metadata": {},
     "output_type": "execute_result"
    }
   ],
   "source": [
    "cc"
   ]
  },
  {
   "cell_type": "markdown",
   "metadata": {},
   "source": [
    "Podrías generar un nuevo print con la estructura\n",
    "\n",
    "        El telefono de Comercio es teléfono\n",
    "        \n",
    "Para cada uno de los elementos del diccionario   "
   ]
  },
  {
   "cell_type": "code",
   "execution_count": 12,
   "metadata": {},
   "outputs": [
    {
     "name": "stdout",
     "output_type": "stream",
     "text": [
      "El teléfono de  Super Cut  es  67984512\n",
      "El teléfono de  La Goma  es  55632189\n",
      "El teléfono de  Dentastic  es  68553180\n"
     ]
    },
    {
     "data": {
      "text/plain": [
       "[None, None, None]"
      ]
     },
     "execution_count": 12,
     "metadata": {},
     "output_type": "execute_result"
    }
   ],
   "source": [
    "[print(\"El teléfono de \",cc[i][0],\" es \",cc[i][1]) for i in cc]"
   ]
  },
  {
   "cell_type": "markdown",
   "metadata": {},
   "source": [
    "Ejercicio 2\n",
    "\n",
    "Utilizando un diccionario ingles-aleman (en_de) y otro aleman-frances (de_fr) determina el equivalente a blue en frances\n",
    "\n",
    "en_de = {\"red\" : \"rot\", \"green\" : \"grün\", \"blue\" : \"blau\", \"yellow\":\"gelb\"}\n",
    "\n",
    "\n",
    "de_fr = {\"rot\" : \"rouge\", \"grün\" : \"vert\", \"blau\" : \"bleu\", \"gelb\":\"jaune\"}"
   ]
  },
  {
   "cell_type": "code",
   "execution_count": 13,
   "metadata": {},
   "outputs": [],
   "source": [
    "en_de = {\"red\" : \"rot\", \"green\" : \"grün\", \"blue\" : \"blau\", \"yellow\":\"gelb\"}\n",
    "\n",
    "de_fr = {\"rot\" : \"rouge\", \"grün\" : \"vert\", \"blau\" : \"bleu\", \"gelb\":\"jaune\"}\n"
   ]
  },
  {
   "cell_type": "code",
   "execution_count": 14,
   "metadata": {},
   "outputs": [
    {
     "data": {
      "text/plain": [
       "'rouge'"
      ]
     },
     "execution_count": 14,
     "metadata": {},
     "output_type": "execute_result"
    }
   ],
   "source": [
    "de_fr[en_de[\"red\"]]"
   ]
  },
  {
   "cell_type": "code",
   "execution_count": 20,
   "metadata": {},
   "outputs": [
    {
     "name": "stdout",
     "output_type": "stream",
     "text": [
      "Escriba el color en ingles que quiera traducir red\n",
      "En aleman se dice  rot\n",
      "En francés se dice  rouge\n",
      "Quieres consultar otra palabra? Contesta S para síS\n",
      "Escriba el color en ingles que quiera traducir yellow\n",
      "En aleman se dice  gelb\n",
      "En francés se dice  jaune\n",
      "Quieres consultar otra palabra? Contesta S para sín\n"
     ]
    }
   ],
   "source": [
    "r=\"S\"\n",
    "while r==\"S\":\n",
    "    c=input(\"Escriba el color en ingles que quiera traducir \")\n",
    "    if en_de.get(c,\"No\")==\"No\":\n",
    "        print(\"No tengo la equivalencia\")\n",
    "    else:\n",
    "        print(\"En aleman se dice \",en_de[c])\n",
    "        print(\"En francés se dice \",de_fr[en_de[c]])\n",
    "    r=input(\"Quieres consultar otra palabra? Contesta S para sí\")"
   ]
  },
  {
   "cell_type": "markdown",
   "metadata": {},
   "source": [
    "## Crear estructuras vacías"
   ]
  },
  {
   "cell_type": "markdown",
   "metadata": {},
   "source": [
    "¿Como podemos crear estructuras vacías?"
   ]
  },
  {
   "cell_type": "code",
   "execution_count": 4,
   "metadata": {},
   "outputs": [],
   "source": [
    "d={} #No es un conjunto, es un diccionario"
   ]
  },
  {
   "cell_type": "code",
   "execution_count": 5,
   "metadata": {},
   "outputs": [
    {
     "name": "stdout",
     "output_type": "stream",
     "text": [
      "Variable   Type    Data/Info\n",
      "----------------------------\n",
      "d          dict    n=0\n",
      "datos      dict    n=5\n"
     ]
    }
   ],
   "source": [
    "whos"
   ]
  },
  {
   "cell_type": "markdown",
   "metadata": {},
   "source": [
    "### Una aplicacion de diccionario\n",
    "\n",
    "Considera el siguiente texto\n",
    "\n",
    "\"Muchos años después frente al pelotón de fusilamiento el coronel Aureliano Buendía había de recordar aquella tarde remota en que su padre lo llevó a conocer el hielo. Macondo era entonces una aldea de 20 casas de barro y cañabrava construidas a la orilla de un río de aguas diáfanas que se precipitaban por un lecho de piedras pulidas blancas y enormes como huevos prehistóricos. El mundo era tan reciente que muchas cosas carecían de nombre y para mencionarlas había que señalarlas con el dedo.\"\n",
    "\n",
    "Almacenalo en una variable"
   ]
  },
  {
   "cell_type": "code",
   "execution_count": 21,
   "metadata": {},
   "outputs": [],
   "source": [
    "t=\"Muchos años después frente al pelotón de fusilamiento el coronel Aureliano Buendía había de recordar aquella tarde remota en que su padre lo llevó a conocer el hielo. Macondo era entonces una aldea de 20 casas de barro y cañabrava construidas a la orilla de un río de aguas diáfanas que se precipitaban por un lecho de piedras pulidas blancas y enormes como huevos prehistóricos. El mundo era tan reciente que muchas cosas carecían de nombre y para mencionarlas había que señalarlas con el dedo.\""
   ]
  },
  {
   "cell_type": "code",
   "execution_count": 22,
   "metadata": {},
   "outputs": [
    {
     "data": {
      "text/plain": [
       "'Muchos años después frente al pelotón de fusilamiento el coronel Aureliano Buendía había de recordar aquella tarde remota en que su padre lo llevó a conocer el hielo. Macondo era entonces una aldea de 20 casas de barro y cañabrava construidas a la orilla de un río de aguas diáfanas que se precipitaban por un lecho de piedras pulidas blancas y enormes como huevos prehistóricos. El mundo era tan reciente que muchas cosas carecían de nombre y para mencionarlas había que señalarlas con el dedo.'"
      ]
     },
     "execution_count": 22,
     "metadata": {},
     "output_type": "execute_result"
    }
   ],
   "source": [
    "t"
   ]
  },
  {
   "cell_type": "markdown",
   "metadata": {},
   "source": [
    "separalo"
   ]
  },
  {
   "cell_type": "code",
   "execution_count": 23,
   "metadata": {},
   "outputs": [
    {
     "name": "stdout",
     "output_type": "stream",
     "text": [
      "a 55\n"
     ]
    }
   ],
   "source": [
    "print(\"a\",t.count(\"a\")) #cuantas a hay "
   ]
  },
  {
   "cell_type": "code",
   "execution_count": 25,
   "metadata": {},
   "outputs": [
    {
     "data": {
      "text/plain": [
       "['Muchos a',\n",
       " 'os después frente al pelotón de fusilamiento el coronel Aureliano Buendía había de recordar aquella tarde remota en que su padre lo llevó a conocer el hielo. Macondo era entonces una aldea de 20 casas de barro y ca',\n",
       " 'abrava construidas a la orilla de un río de aguas diáfanas que se precipitaban por un lecho de piedras pulidas blancas y enormes como huevos prehistóricos. El mundo era tan reciente que muchas cosas carecían de nombre y para mencionarlas había que se',\n",
       " 'alarlas con el dedo.']"
      ]
     },
     "execution_count": 25,
     "metadata": {},
     "output_type": "execute_result"
    }
   ],
   "source": [
    "t.split(\"ñ\")"
   ]
  },
  {
   "cell_type": "code",
   "execution_count": 30,
   "metadata": {},
   "outputs": [
    {
     "data": {
      "text/plain": [
       "'Muchos años después frente al pelotón de fusilamiento el coronel Aureliano Buendía había de recordar aquella tarde remota en que su padre lo llevó a conocer el hielo. Macondo era entonces una aldea de 20 casas de barro y cañabrava construidas a la orilla de un río de aguas diáfanas que se precipitaban por un lecho de piedras pulidas blancas y enormes como huevos prehistóricos. El mundo era tan reciente que muchas cosas carecían de nombre y para mencionarlas había que señalarlas con el dedo.'"
      ]
     },
     "execution_count": 30,
     "metadata": {},
     "output_type": "execute_result"
    }
   ],
   "source": [
    "t.split\n",
    "t"
   ]
  },
  {
   "cell_type": "code",
   "execution_count": 29,
   "metadata": {},
   "outputs": [
    {
     "data": {
      "text/plain": [
       "['Muchos',\n",
       " 'años',\n",
       " 'después',\n",
       " 'frente',\n",
       " 'al',\n",
       " 'pelotón',\n",
       " 'de',\n",
       " 'fusilamiento',\n",
       " 'el',\n",
       " 'coronel',\n",
       " 'Aureliano',\n",
       " 'Buendía',\n",
       " 'había',\n",
       " 'de',\n",
       " 'recordar',\n",
       " 'aquella',\n",
       " 'tarde',\n",
       " 'remota',\n",
       " 'en',\n",
       " 'que',\n",
       " 'su',\n",
       " 'padre',\n",
       " 'lo',\n",
       " 'llevó',\n",
       " 'a',\n",
       " 'conocer',\n",
       " 'el',\n",
       " 'hielo.',\n",
       " 'Macondo',\n",
       " 'era',\n",
       " 'entonces',\n",
       " 'una',\n",
       " 'aldea',\n",
       " 'de',\n",
       " '20',\n",
       " 'casas',\n",
       " 'de',\n",
       " 'barro',\n",
       " 'y',\n",
       " 'cañabrava',\n",
       " 'construidas',\n",
       " 'a',\n",
       " 'la',\n",
       " 'orilla',\n",
       " 'de',\n",
       " 'un',\n",
       " 'río',\n",
       " 'de',\n",
       " 'aguas',\n",
       " 'diáfanas',\n",
       " 'que',\n",
       " 'se',\n",
       " 'precipitaban',\n",
       " 'por',\n",
       " 'un',\n",
       " 'lecho',\n",
       " 'de',\n",
       " 'piedras',\n",
       " 'pulidas',\n",
       " 'blancas',\n",
       " 'y',\n",
       " 'enormes',\n",
       " 'como',\n",
       " 'huevos',\n",
       " 'prehistóricos.',\n",
       " 'El',\n",
       " 'mundo',\n",
       " 'era',\n",
       " 'tan',\n",
       " 'reciente',\n",
       " 'que',\n",
       " 'muchas',\n",
       " 'cosas',\n",
       " 'carecían',\n",
       " 'de',\n",
       " 'nombre',\n",
       " 'y',\n",
       " 'para',\n",
       " 'mencionarlas',\n",
       " 'había',\n",
       " 'que',\n",
       " 'señalarlas',\n",
       " 'con',\n",
       " 'el',\n",
       " 'dedo.']"
      ]
     },
     "execution_count": 29,
     "metadata": {},
     "output_type": "execute_result"
    }
   ],
   "source": [
    "l=t.split()\n",
    "l"
   ]
  },
  {
   "cell_type": "markdown",
   "metadata": {},
   "source": [
    "Ahora crea un diccionario vacío"
   ]
  },
  {
   "cell_type": "code",
   "execution_count": 35,
   "metadata": {},
   "outputs": [],
   "source": [
    "dd={}"
   ]
  },
  {
   "cell_type": "markdown",
   "metadata": {},
   "source": [
    "El objetivo del ejercicio es saber cuantas letras hay en el texto y cuantas veces aparece cada una... como podrías hacerlo?\n",
    "\n",
    "TIP: utilizaremos el diccionario y su metodo get"
   ]
  },
  {
   "cell_type": "code",
   "execution_count": 39,
   "metadata": {},
   "outputs": [
    {
     "data": {
      "text/plain": [
       "{'M': 2,\n",
       " 'u': 20,\n",
       " 'c': 22,\n",
       " 'h': 8,\n",
       " 'o': 33,\n",
       " 's': 27,\n",
       " ' ': 84,\n",
       " 'a': 55,\n",
       " 'ñ': 3,\n",
       " 'd': 22,\n",
       " 'e': 53,\n",
       " 'p': 10,\n",
       " 'é': 1,\n",
       " 'f': 3,\n",
       " 'r': 30,\n",
       " 'n': 27,\n",
       " 't': 11,\n",
       " 'l': 25,\n",
       " 'ó': 3,\n",
       " 'i': 15,\n",
       " 'm': 8,\n",
       " 'A': 1,\n",
       " 'B': 1,\n",
       " 'í': 5,\n",
       " 'b': 7,\n",
       " 'q': 5,\n",
       " 'v': 3,\n",
       " '.': 3,\n",
       " '2': 1,\n",
       " '0': 1,\n",
       " 'y': 3,\n",
       " 'g': 1,\n",
       " 'á': 1,\n",
       " 'E': 1}"
      ]
     },
     "execution_count": 39,
     "metadata": {},
     "output_type": "execute_result"
    }
   ],
   "source": [
    "l2=list(t) #separa el texto por caracter\n",
    "caracteres={}\n",
    "for i in l2:\n",
    "    caracteres[i]=caracteres.get(i,0)+1\n",
    "caracteres"
   ]
  },
  {
   "cell_type": "code",
   "execution_count": 40,
   "metadata": {},
   "outputs": [
    {
     "data": {
      "text/plain": [
       "495"
      ]
     },
     "execution_count": 40,
     "metadata": {},
     "output_type": "execute_result"
    }
   ],
   "source": [
    "contar=list(t)\n",
    "len(contar)#número de caracteres en el texto"
   ]
  },
  {
   "cell_type": "code",
   "execution_count": 42,
   "metadata": {},
   "outputs": [
    {
     "data": {
      "text/plain": [
       "{'a': 55, 'd': 22, 'e': 53, 'r': 30, 'n': 27, 'l': 25}"
      ]
     },
     "execution_count": 42,
     "metadata": {},
     "output_type": "execute_result"
    }
   ],
   "source": [
    "#Contar los caracteres que están en una palabra\n",
    "c={}\n",
    "for i in l2:\n",
    "    if i in \"alejandra\":\n",
    "        c[i]=c.get(i,0)+1\n",
    "c"
   ]
  },
  {
   "cell_type": "markdown",
   "metadata": {},
   "source": [
    "Si ahora quiero saber cuantas veces aparece cada palabra"
   ]
  },
  {
   "cell_type": "code",
   "execution_count": 36,
   "metadata": {},
   "outputs": [
    {
     "data": {
      "text/plain": [
       "{'Muchos': 1,\n",
       " 'años': 1,\n",
       " 'después': 1,\n",
       " 'frente': 1,\n",
       " 'al': 1,\n",
       " 'pelotón': 1,\n",
       " 'de': 8,\n",
       " 'fusilamiento': 1,\n",
       " 'el': 3,\n",
       " 'coronel': 1,\n",
       " 'Aureliano': 1,\n",
       " 'Buendía': 1,\n",
       " 'había': 2,\n",
       " 'recordar': 1,\n",
       " 'aquella': 1,\n",
       " 'tarde': 1,\n",
       " 'remota': 1,\n",
       " 'en': 1,\n",
       " 'que': 4,\n",
       " 'su': 1,\n",
       " 'padre': 1,\n",
       " 'lo': 1,\n",
       " 'llevó': 1,\n",
       " 'a': 2,\n",
       " 'conocer': 1,\n",
       " 'hielo.': 1,\n",
       " 'Macondo': 1,\n",
       " 'era': 2,\n",
       " 'entonces': 1,\n",
       " 'una': 1,\n",
       " 'aldea': 1,\n",
       " '20': 1,\n",
       " 'casas': 1,\n",
       " 'barro': 1,\n",
       " 'y': 3,\n",
       " 'cañabrava': 1,\n",
       " 'construidas': 1,\n",
       " 'la': 1,\n",
       " 'orilla': 1,\n",
       " 'un': 2,\n",
       " 'río': 1,\n",
       " 'aguas': 1,\n",
       " 'diáfanas': 1,\n",
       " 'se': 1,\n",
       " 'precipitaban': 1,\n",
       " 'por': 1,\n",
       " 'lecho': 1,\n",
       " 'piedras': 1,\n",
       " 'pulidas': 1,\n",
       " 'blancas': 1,\n",
       " 'enormes': 1,\n",
       " 'como': 1,\n",
       " 'huevos': 1,\n",
       " 'prehistóricos.': 1,\n",
       " 'El': 1,\n",
       " 'mundo': 1,\n",
       " 'tan': 1,\n",
       " 'reciente': 1,\n",
       " 'muchas': 1,\n",
       " 'cosas': 1,\n",
       " 'carecían': 1,\n",
       " 'nombre': 1,\n",
       " 'para': 1,\n",
       " 'mencionarlas': 1,\n",
       " 'señalarlas': 1,\n",
       " 'con': 1,\n",
       " 'dedo.': 1}"
      ]
     },
     "execution_count": 36,
     "metadata": {},
     "output_type": "execute_result"
    }
   ],
   "source": [
    "for i in l:\n",
    "    dd[i]=dd.get(i,0)+1\n",
    "dd\n",
    "#Hace un diccionario a partir de la lista de palabras generada del texto, usa de llave la palabra y cuenta cuantas veces está en el texto"
   ]
  },
  {
   "cell_type": "code",
   "execution_count": 13,
   "metadata": {},
   "outputs": [],
   "source": []
  },
  {
   "cell_type": "code",
   "execution_count": null,
   "metadata": {},
   "outputs": [],
   "source": []
  },
  {
   "attachments": {
    "image.png": {
     "image/png": "[encoded data removed]"
    }
   },
   "cell_type": "markdown",
   "metadata": {},
   "source": [
    "Considera a las ciudades que han sido sedes olimpicas en los ultimos 20 años\n",
    "\n",
    "![image.png](attachment:image.png)"
   ]
  },
  {
   "cell_type": "code",
   "execution_count": 49,
   "metadata": {},
   "outputs": [],
   "source": [
    "o={2000:(\"Sidney\",\"Australia\",\"verano\"),2002:(\"Salt Lake City\",\"Estados Unidos\",\"invierno\"),2004:(\"Atenas\",\"Grecia\",\"verano\"),2006:(\"Turin\",\"Italia\",\"invierno\"),2008:(\"Pekin\",\"China\",\"verano\"),2010:(\"Vancouver\",\"Canada\",\"invierno\"),2012:(\"Londres\",\"Inglaterra\",\"verano\"),2014:(\"Sochi\",\"Rusia\",\"invierno\"),2016:(\"Rio de Janeiro\",\"Brasil\",\"verano\"),2018:(\"Pieochang\",\"Corea del Sur\",\"invierno\"),2020:(\"Tokio\",\"Japon\",\"verano\")}\n"
   ]
  },
  {
   "cell_type": "markdown",
   "metadata": {},
   "source": [
    "Desarrolla un programa que pida un año y te diga si es que hubo olimpiada donde fue y que tipo, debe preguntarte hasta que le respondas que no"
   ]
  },
  {
   "cell_type": "code",
   "execution_count": 50,
   "metadata": {},
   "outputs": [
    {
     "data": {
      "text/plain": [
       "{2000: ('Sidney', 'Australia', 'verano'),\n",
       " 2002: ('Salt Lake City', 'Estados Unidos', 'invierno'),\n",
       " 2004: ('Atenas', 'Grecia', 'verano'),\n",
       " 2006: ('Turin', 'Italia', 'invierno'),\n",
       " 2008: ('Pekin', 'China', 'verano'),\n",
       " 2010: ('Vancouver', 'Canada', 'invierno'),\n",
       " 2012: ('Londres', 'Inglaterra', 'verano'),\n",
       " 2014: ('Sochi', 'Rusia', 'invierno'),\n",
       " 2016: ('Rio de Janeiro', 'Brasil', 'verano'),\n",
       " 2018: ('Pieochang', 'Corea del Sur', 'invierno'),\n",
       " 2020: ('Tokio', 'Japon', 'verano')}"
      ]
     },
     "execution_count": 50,
     "metadata": {},
     "output_type": "execute_result"
    }
   ],
   "source": [
    "o"
   ]
  },
  {
   "cell_type": "code",
   "execution_count": 52,
   "metadata": {},
   "outputs": [
    {
     "data": {
      "text/plain": [
       "'verano'"
      ]
     },
     "execution_count": 52,
     "metadata": {},
     "output_type": "execute_result"
    }
   ],
   "source": [
    "o[2000][2]"
   ]
  },
  {
   "cell_type": "code",
   "execution_count": 61,
   "metadata": {},
   "outputs": [
    {
     "name": "stdout",
     "output_type": "stream",
     "text": [
      "Ingrese el año que quiere consultar (a partir del 2000) 2020\n",
      "Las olimpiadas de verano programadas para Tokio fueron pospuestas\n",
      "¿Quiere consultar otro año? Conteste S para sí s\n"
     ]
    }
   ],
   "source": [
    "r=\"S\"\n",
    "while r==\"S\":\n",
    "    a=int(input(\"Ingrese el año que quiere consultar (a partir del 2000) \"))\n",
    "    if o.get(a,\"N\")==\"N\" :\n",
    "        print(\"No hubo olimpiadas ese año\")\n",
    "    elif a==2020:\n",
    "        print(\"Las olimpiadas de verano programadas para Tokio fueron pospuestas\")\n",
    "    else:\n",
    "        print(\"Sí hubo olimpiadas ese año.\\nFueron de \"+o[a][2]+\"\\nEn: \",o[a][0]+\", \"+o[a][1])\n",
    "    r=input(\"¿Quiere consultar otro año? Conteste S para sí \")\n"
   ]
  }
 ],
 "metadata": {
  "kernelspec": {
   "display_name": "Python 3",
   "language": "python",
   "name": "python3"
  },
  "language_info": {
   "codemirror_mode": {
    "name": "ipython",
    "version": 3
   },
   "file_extension": ".py",
   "mimetype": "text/x-python",
   "name": "python",
   "nbconvert_exporter": "python",
   "pygments_lexer": "ipython3",
   "version": "3.8.5"
  }
 },
 "nbformat": 4,
 "nbformat_minor": 2
}
