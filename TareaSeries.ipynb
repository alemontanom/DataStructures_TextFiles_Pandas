{
 "cells": [
  {
   "cell_type": "code",
   "execution_count": 4,
   "metadata": {},
   "outputs": [],
   "source": [
    "import pandas as pd"
   ]
  },
  {
   "cell_type": "code",
   "execution_count": 101,
   "metadata": {},
   "outputs": [],
   "source": [
    "#ejercicio 2\n",
    "titanic = open('Ej2_7_TitanicEdades.csv', 'r')\n",
    "indices = []\n",
    "valores = []\n",
    "edadL = []\n",
    "edadF = []\n",
    "\n",
    "for i in range (3):\n",
    "    valores.append([])\n",
    "\n",
    "for linea in titanic: \n",
    "    datos = linea.split(',')\n",
    "    indices.append(datos[0])\n",
    "    for i in range (3):\n",
    "        valores[i].append(datos[i])\n",
    "\n",
    "titanic.close()\n",
    "\n",
    "for i in range(len(valores[2])):\n",
    "    edadL.append(valores[2][i].strip('\\n'))\n",
    "    if edadL[i] == '':\n",
    "        edadL[i]=0\n",
    "    edadL[i] = float(edadL[i])\n",
    "\n",
    "genero = pd.Series(valores[1], indices)\n",
    "edad = pd.Series(edadL, indices)\n",
    "todo = pd.concat([genero, edad], axis =1)"
   ]
  },
  {
   "cell_type": "code",
   "execution_count": 109,
   "metadata": {},
   "outputs": [],
   "source": [
    "ninos1 = todo[todo[1]>0]"
   ]
  },
  {
   "cell_type": "code",
   "execution_count": 110,
   "metadata": {},
   "outputs": [],
   "source": [
    "ninos = ninos1[ninos1[1]<=11]"
   ]
  },
  {
   "cell_type": "code",
   "execution_count": 114,
   "metadata": {},
   "outputs": [
    {
     "name": "stdout",
     "output_type": "stream",
     "text": [
      "hay 64 niños de entre 1 y 11 años\n"
     ]
    }
   ],
   "source": [
    "print(\"hay \"+str(len(ninos))+\" niños de entre 1 y 11 años\")"
   ]
  },
  {
   "cell_type": "code",
   "execution_count": 117,
   "metadata": {},
   "outputs": [],
   "source": [
    "adolescentes1 = todo[todo[1]>=12]\n",
    "adolescentes = adolescentes1[adolescentes1[1]<=17]"
   ]
  },
  {
   "cell_type": "code",
   "execution_count": 121,
   "metadata": {},
   "outputs": [
    {
     "name": "stdout",
     "output_type": "stream",
     "text": [
      "hay 40 adolescentes de entre 12 y 17 años\n"
     ]
    }
   ],
   "source": [
    "print(\"hay \"+str(len(adolescentes))+\" adolescentes de entre 12 y 17 años\")"
   ]
  },
  {
   "cell_type": "code",
   "execution_count": 122,
   "metadata": {},
   "outputs": [],
   "source": [
    "adultos1 = todo[todo[1]>=18]\n",
    "adultos = adultos1[adultos1[1]<=65]"
   ]
  },
  {
   "cell_type": "code",
   "execution_count": 123,
   "metadata": {},
   "outputs": [
    {
     "name": "stdout",
     "output_type": "stream",
     "text": [
      "hay 552 adultos de entre 18 y 65 años\n"
     ]
    }
   ],
   "source": [
    "print(\"hay \"+str(len(adultos))+\" adultos de entre 18 y 65 años\")"
   ]
  },
  {
   "cell_type": "code",
   "execution_count": 124,
   "metadata": {},
   "outputs": [
    {
     "name": "stdout",
     "output_type": "stream",
     "text": [
      "hay 7 adultos mayores de 65 años\n"
     ]
    }
   ],
   "source": [
    "adultosMa = todo[todo[1]>65]\n",
    "print(\"hay \"+str(len(adultosMa))+\" adultos mayores de 65 años\")"
   ]
  },
  {
   "cell_type": "code",
   "execution_count": 133,
   "metadata": {},
   "outputs": [
    {
     "name": "stdout",
     "output_type": "stream",
     "text": [
      "el porcentaje de mujeres es de 35.06024096385542 y el de hombres de 64.93975903614458\n"
     ]
    }
   ],
   "source": [
    "print(\"el porcentaje de mujeres es de \"+str((todo[0][todo[0]=='MUJER'].count()/830)*100)+\" y el de hombres de \"+str((todo[0][todo[0]=='HOMBRE'].count()/830)*100))\n"
   ]
  },
  {
   "cell_type": "code",
   "execution_count": 139,
   "metadata": {},
   "outputs": [
    {
     "name": "stdout",
     "output_type": "stream",
     "text": [
      "la mayor edad es 80.0\n",
      "la menor edad es 1.0\n"
     ]
    }
   ],
   "source": [
    "print(\"la mayor edad es \"+str(todo[1].max())+\"\\nla menor edad es \"+str(todo[1][todo[1]>0].min()))"
   ]
  },
  {
   "cell_type": "code",
   "execution_count": 151,
   "metadata": {},
   "outputs": [
    {
     "name": "stdout",
     "output_type": "stream",
     "text": [
      "identificacion y genero de los pasajeros con la menor edad:\n",
      "\n",
      "631    HOMBRE\n",
      "Name: 0, dtype: object\n"
     ]
    }
   ],
   "source": [
    "print(\"identificacion y genero de los pasajeros con la menor edad:\\n\")\n",
    "print(todo[0][todo[1]==todo[1].max()])"
   ]
  },
  {
   "cell_type": "code",
   "execution_count": 154,
   "metadata": {},
   "outputs": [
    {
     "name": "stdout",
     "output_type": "stream",
     "text": [
      "identificacion y genero de los pasajeros con la menor edad:\n",
      "\n",
      "387    HOMBRE\n",
      "306    HOMBRE\n",
      "828    HOMBRE\n",
      "645     MUJER\n",
      "173     MUJER\n",
      "184    HOMBRE\n",
      "382     MUJER\n",
      "165    HOMBRE\n",
      "789    HOMBRE\n",
      "470     MUJER\n",
      "804    HOMBRE\n",
      "756    HOMBRE\n",
      "79     HOMBRE\n",
      "Name: 0, dtype: object\n"
     ]
    }
   ],
   "source": [
    "print(\"identificacion y genero de los pasajeros con la menor edad:\\n\")\n",
    "print(todo[0][todo[1]==todo[1][todo[1]>0].min()])"
   ]
  },
  {
   "cell_type": "code",
   "execution_count": 160,
   "metadata": {},
   "outputs": [
    {
     "name": "stdout",
     "output_type": "stream",
     "text": [
      "la edad promedio es de 29.787330316742082\n"
     ]
    }
   ],
   "source": [
    "print(\"la edad promedio es de \"+str(todo[1][todo[1]>0].mean()))"
   ]
  }
 ],
 "metadata": {
  "kernelspec": {
   "display_name": "Python 3",
   "language": "python",
   "name": "python3"
  },
  "language_info": {
   "codemirror_mode": {
    "name": "ipython",
    "version": 3
   },
   "file_extension": ".py",
   "mimetype": "text/x-python",
   "name": "python",
   "nbconvert_exporter": "python",
   "pygments_lexer": "ipython3",
   "version": "3.8.5"
  }
 },
 "nbformat": 4,
 "nbformat_minor": 4
}
